{
 "cells": [
  {
   "cell_type": "code",
   "execution_count": 49,
   "id": "66846116-9e30-463a-ac8e-ad7d4604b5fb",
   "metadata": {},
   "outputs": [],
   "source": [
    "import pandas as pd\n",
    "import numpy as np"
   ]
  },
  {
   "cell_type": "markdown",
   "id": "5ce42872-75c2-4d58-b71d-d4ccad08905f",
   "metadata": {
    "jp-MarkdownHeadingCollapsed": true
   },
   "source": [
    "## Series"
   ]
  },
  {
   "cell_type": "code",
   "execution_count": null,
   "id": "a1b4bba0-f6a6-4fb3-aa86-9acf2b0cd5fc",
   "metadata": {},
   "outputs": [],
   "source": [
    "a = pd.Series([10, 20, 30, 40, 50])\n",
    "print(a)"
   ]
  },
  {
   "cell_type": "code",
   "execution_count": null,
   "id": "8f8f0714-e747-4c02-a58f-2f379d2b8875",
   "metadata": {},
   "outputs": [],
   "source": [
    "b = pd.Series([10, 20, 30, 40, 50], index=[\"a\", \"b\", \"c\", \"d\", \"e\"])\n",
    "print(b)"
   ]
  },
  {
   "cell_type": "code",
   "execution_count": null,
   "id": "bac8f954-84b4-4e44-ae5a-856b3193b035",
   "metadata": {},
   "outputs": [],
   "source": [
    "c = pd.Series({\"b\":1, \"a\": 4, \"c\":7})\n",
    "print(c)"
   ]
  },
  {
   "cell_type": "code",
   "execution_count": null,
   "id": "aac7d88c-4232-49cb-9691-6298e9e72ce6",
   "metadata": {},
   "outputs": [],
   "source": [
    "d = pd.Series(5.0, index=[\"a\", \"b\", \"c\", \"d\", \"e\"])\n",
    "print(d)"
   ]
  },
  {
   "cell_type": "code",
   "execution_count": null,
   "id": "ed3636c4-6e23-494c-8c8a-f07823269eb0",
   "metadata": {},
   "outputs": [],
   "source": [
    "e = pd.Series(5.0, index=[\"a\", \"b\", \"c\", \"d\", \"e\"])\n",
    "print(\"\\nData Type:\", e.dtype)\n",
    "print(\"\\nIndex:\", e.index)\n",
    "print(\"\\nValues:\", e.values)\n",
    "print(\"\\nGet Single Value:\", e.get(\"c\"))"
   ]
  },
  {
   "cell_type": "markdown",
   "id": "237d9218-d566-4b8a-b02f-81b71c742334",
   "metadata": {
    "jp-MarkdownHeadingCollapsed": true
   },
   "source": [
    "## DataFrame"
   ]
  },
  {
   "cell_type": "code",
   "execution_count": null,
   "id": "73b0e4c3-64f2-4c5c-b38d-eb1af145bd26",
   "metadata": {},
   "outputs": [],
   "source": [
    "data = {\n",
    "    'name': ['Sonam', 'Raj', 'Rohit', 'Rani'],\n",
    "    'age': [28, 24, 35, 32]\n",
    "}\n",
    "df = pd.DataFrame(data)\n",
    "print(df)"
   ]
  },
  {
   "cell_type": "code",
   "execution_count": null,
   "id": "cde45896-4081-47aa-bfb7-923a2a11185a",
   "metadata": {},
   "outputs": [],
   "source": [
    "data = {\n",
    "    'name': ['Sonam', 'Raj', 'Rohit', 'Rani'],\n",
    "    'age': [28, 24, 35, 32]\n",
    "}\n",
    "df = pd.DataFrame(data, index=[\"a\", \"b\", \"c\", \"d\"])\n",
    "print(df)"
   ]
  },
  {
   "cell_type": "code",
   "execution_count": null,
   "id": "f1ebb483-3278-4899-a76c-bca3a0af3357",
   "metadata": {},
   "outputs": [],
   "source": [
    "data = {\n",
    "    'name': ['Sonam', 'Raj', 'Rohit', 'Rani'],\n",
    "    'age': [28, 24, 35, 32]\n",
    "}\n",
    "df = pd.DataFrame(data, index=[\"a\", \"b\", \"c\", \"d\"])\n",
    "print(\"\\nIndex:\", df.index)\n",
    "print(\"\\nName:\\n\", df.name)\n",
    "print(\"\\nName:\\n\", df.age)\n",
    "print(\"\\nName:\\n\", df.name.get(\"a\"))"
   ]
  },
  {
   "cell_type": "code",
   "execution_count": null,
   "id": "21d6d9ee-f082-4d8e-899b-f5bb01591151",
   "metadata": {},
   "outputs": [],
   "source": [
    "data = {\n",
    "    \"weight\": pd.Series([10, 20, 30]),\n",
    "    \"price\": pd.Series([1.0, 2.0, 3.0, 4.0]),\n",
    "}\n",
    "df = pd.DataFrame(data)\n",
    "print(df)"
   ]
  },
  {
   "cell_type": "code",
   "execution_count": null,
   "id": "926fa723-f430-499e-a944-b891020650e6",
   "metadata": {},
   "outputs": [],
   "source": [
    "data = {\n",
    "    \"weight\": pd.Series([10, 20, 30], index=[\"a\", \"b\", \"c\"]),\n",
    "    \"price\": pd.Series([1.0, 2.0, 3.0, 4.0], index=[\"a\", \"b\", \"c\", \"d\"]),\n",
    "}\n",
    "df = pd.DataFrame(data)\n",
    "print(df)"
   ]
  },
  {
   "cell_type": "code",
   "execution_count": null,
   "id": "b6ed4bb7-cf35-4ca9-9571-1c09c476a5a7",
   "metadata": {},
   "outputs": [],
   "source": [
    "data = [{\"a\": 1, \"b\": 2}, {\"a\": 5, \"b\": 10, \"c\": 20}]\n",
    "df = pd.DataFrame(data)\n",
    "print(df)"
   ]
  },
  {
   "cell_type": "code",
   "execution_count": null,
   "id": "0aeb73ad-8a09-4703-97b0-756322b43ed1",
   "metadata": {},
   "outputs": [],
   "source": [
    "data = [{\"a\": 1, \"b\": 2}, {\"a\": 5, \"b\": 10, \"c\": 20}]\n",
    "df = pd.DataFrame(data, index=[\"1st\", \"2nd\"])\n",
    "print(df)"
   ]
  },
  {
   "cell_type": "markdown",
   "id": "f48fad8e-c0bb-4ca1-b09c-45e1762964d4",
   "metadata": {
    "jp-MarkdownHeadingCollapsed": true
   },
   "source": [
    "## Inspecting Data or Viewing Data"
   ]
  },
  {
   "cell_type": "code",
   "execution_count": null,
   "id": "df6a0ab4-d0b3-4809-b408-f3e5b0f21dca",
   "metadata": {},
   "outputs": [],
   "source": [
    "data = {\n",
    "    'name': [\n",
    "        'Sonam', 'Raj', 'Rohit', np.nan, 'Amit', 'Neha', 'Vikas', 'Pooja',\n",
    "        'Ajay', 'Raj', 'Suresh', 'Kiran', 'Anil', np.nan, 'Rahul', \n",
    "        'Sneha', 'Vivek', 'Raj', 'Arjun', 'Jyoti'\n",
    "    ],\n",
    "    'age': [\n",
    "        28, 24, 35, 32, 27, 26, 30, 29, np.nan, 22, 33, 21, np.nan, 23, 25,\n",
    "        20, 36, 19, np.nan, 18\n",
    "    ]\n",
    "}\n",
    "df = pd.DataFrame(data)\n",
    "print(\"Data:\\n\", df)\n",
    "#print(df.info())\n",
    "#print(\"\\nNull Info:\\n\", df.isnull())\n",
    "#print(\"\\nTotal Null Info:\\n\", df.isnull().sum())\n",
    "#print(\"\\nStatistical Summary:\\n\", df.describe())\n",
    "#print(\"\\nTop 5 Data:\\n\", df.head())\n",
    "#print(\"\\nTop 10 Data:\\n\", df.head(10))\n",
    "#print(\"\\nBottom 5 Data:\\n\", df.tail())\n",
    "#print(\"\\nBottom 10 Data:\\n\", df.tail(10))\n",
    "#print(\"\\nDuplicate Data:\\n\", df[\"name\"].duplicated())\n",
    "#print(\"\\nTotal Duplicate Data:\\n\", df[\"name\"].duplicated().sum())\n",
    "#print(\"\\nSort by Index:\\n\", df.sort_index())\n",
    "#print(\"\\nSort by Values:\\n\", df.sort_values('age'))"
   ]
  },
  {
   "cell_type": "markdown",
   "id": "5a1afe01-23bf-4de4-98a0-142f6894dc26",
   "metadata": {
    "jp-MarkdownHeadingCollapsed": true
   },
   "source": [
    "## Column Selection or Indexing"
   ]
  },
  {
   "cell_type": "code",
   "execution_count": null,
   "id": "1a8e9863-54eb-4ba5-bf10-4709d09197d9",
   "metadata": {},
   "outputs": [],
   "source": [
    "data = {\n",
    "    'name': [\n",
    "        'Sonam', 'Raj', 'Rohit', np.nan, 'Amit', 'Neha', 'Vikas', 'Pooja',\n",
    "        'Ajay', 'Raj', 'Suresh', 'Kiran', 'Anil', np.nan, 'Rahul', \n",
    "        'Sneha', 'Vivek', 'Raj', 'Arjun', 'Jyoti'\n",
    "    ],\n",
    "    'age': [\n",
    "        28, 24, 35, 32, 27, 26, 30, 29, np.nan, 22, 33, 21, np.nan, 23, 25,\n",
    "        20, 36, 19, np.nan, 18\n",
    "    ],\n",
    "    'roll': [101, 102, 103, 104, 105, 106, 107, 108, 109, 110, 111, \n",
    "             112, 113, 114, 115, 116, 117, 118, 119, 120],\n",
    "    'city': [\n",
    "        'Bokaro', 'Ranchi', 'Dhanbad', 'Deoghar', 'Giridih', 'Jamshedpur', \n",
    "        'Dumka', 'Delhi', 'Kolkata', 'Mumbai', 'Hazaribagh', 'Ramgarh', \n",
    "        'Gumla', 'Patna', 'Deoghar', 'Dhanbad', 'Chennai', 'Bokaro', \n",
    "        'Ahmedabad', 'Lucknow']\n",
    "}\n",
    "df = pd.DataFrame(data)\n",
    "print(\"Display All Data:\\n\", df)\n",
    "#print(\"\\nSingle Column Data:\\n\", df[\"name\"])\n",
    "#print(\"\\nSingle Column Data:\\n\", df[\"age\"])\n",
    "#print(\"\\nMultiple Column Data:\\n\", df[[\"name\", \"city\"]])\n",
    "#print(\"\\nSelect row by integer location\\n\", df.iloc[2])\n",
    "#print(\"\\nSelect row by Label\\n\", df.loc[2])\n",
    "#print(\"\\nSlice Row:\\n\", df[4:7])\n",
    "#print(\"\\nSelect Row by condition - True False:\\n\", df[\"age\"]>25)\n",
    "#print(\"\\nDisplay Row by condition - True False:\\n\", df[df[\"age\"]>25])"
   ]
  },
  {
   "cell_type": "markdown",
   "id": "3ca964dd-33be-422e-9195-4265685ddfc2",
   "metadata": {
    "jp-MarkdownHeadingCollapsed": true
   },
   "source": [
    "## Column Insertion"
   ]
  },
  {
   "cell_type": "code",
   "execution_count": null,
   "id": "f710c1a5-c810-4bd8-bb34-74cb664b7779",
   "metadata": {},
   "outputs": [],
   "source": [
    "data = {\n",
    "    'name': [\n",
    "        'Sonam', 'Raj', 'Rohit', np.nan, 'Amit', 'Neha', 'Vikas', 'Pooja',\n",
    "        'Ajay', 'Raj', 'Suresh', 'Kiran', 'Anil', np.nan, 'Rahul', \n",
    "        'Sneha', 'Vivek', 'Raj', 'Arjun', 'Jyoti'\n",
    "    ],\n",
    "    'age': [\n",
    "        28, 24, 35, 32, 27, 26, 30, 29, np.nan, 22, 33, 21, np.nan, 23, 25,\n",
    "        20, 36, 19, np.nan, 18\n",
    "    ],\n",
    "    'roll': [101, 102, 103, 104, 105, 106, 107, 108, 109, 110, 111, \n",
    "             112, 113, 114, 115, 116, 117, 118, 119, 120],\n",
    "    'city': [\n",
    "        'Bokaro', 'Ranchi', 'Dhanbad', 'Deoghar', 'Giridih', 'Jamshedpur', \n",
    "        'Dumka', 'Delhi', 'Kolkata', 'Mumbai', 'Hazaribagh', 'Ramgarh', \n",
    "        'Gumla', 'Patna', 'Deoghar', 'Dhanbad', 'Chennai', 'Bokaro', \n",
    "        'Ahmedabad', 'Lucknow']\n",
    "}\n",
    "df = pd.DataFrame(data)\n",
    "print(\"Display All Data:\\n\", df)\n",
    "\n",
    "# Insert or Add Scalar Value - columns get inserted at the end\n",
    "df[\"result\"] = \"Pass\"\n",
    "#print(\"\\n Result Column Added:\\n\", df)\n",
    "\n",
    "# Insert ndarrays - length must be same - columns get inserted at the end\n",
    "df[\"marks\"] = [234, 453, 556, 676, 676, 453, 232, 234, 234, 123, \n",
    "               124, 567, 231, 867, 234, 566, 756, 678, 453, 354]\n",
    "#print(\"\\n Marks Column Added using Array:\\n\", df)\n",
    "\n",
    "# insert() - It is used to insert column at particular location\n",
    "hobbies = [\"cricket\", \"vgame\", \"reading\", \"singing\", \"chatting\", \"computer\", \"fighting\",\n",
    "          \"cricket\", \"vgame\", \"reading\", \"singing\", \"chatting\", \"computer\", \"fighting\",\n",
    "          \"cricket\", \"vgame\", \"reading\", \"singing\", \"chatting\", \"computer\"]\n",
    "df.insert(2, \"hobbies\", hobbies)\n",
    "#print(\"Insert Column after 2nd position:\\n\", df)\n",
    "\n",
    "# Calculate Column to create New Column\n",
    "df[\"fees\"] = df[\"marks\"] * 12\n",
    "#print(\"\\n Fees Column Added:\\n\", df)"
   ]
  },
  {
   "cell_type": "markdown",
   "id": "fb7990b2-fca9-43f5-9ee3-060dcca78036",
   "metadata": {
    "jp-MarkdownHeadingCollapsed": true
   },
   "source": [
    "## Column Updation"
   ]
  },
  {
   "cell_type": "code",
   "execution_count": null,
   "id": "b959b077-5b2d-4f85-b0de-c529d7df1ae9",
   "metadata": {},
   "outputs": [],
   "source": [
    "data = {\n",
    "    'name': ['Sonam', 'Raj', 'Rohit', 'Rani'],\n",
    "    'age': [28, 24, 35, 32],\n",
    "    'roll': [101, 102, 103, 104],\n",
    "    'marks':[111, 222, 333, 444],\n",
    "    'city':['bokaro', 'ranchi', 'dhanbad', 'deoghar'],\n",
    "    'gender':['F', 'M', 'M', 'F']\n",
    "}\n",
    "df = pd.DataFrame(data)\n",
    "print(\"Display All Data:\\n\", df)\n",
    "\n",
    "# Update all fields of a column\n",
    "df[\"gender\"] = \"F\"\n",
    "print(\"\\nUpdate Gender Column:\\n\", df)\n",
    "\n",
    "# Update specific field of a column\n",
    "df.loc[df['roll'] == 102, 'marks'] = 999\n",
    "print(\"\\nUpdate Raj marks :\\n\", df)\n",
    "\n",
    "# Replace Values\n",
    "print(\"\\n Replace Values:\\n\", df.replace('deoghar', 'dumka'))"
   ]
  },
  {
   "cell_type": "markdown",
   "id": "945ed353-cca6-4931-b11c-ff8200707a7e",
   "metadata": {
    "jp-MarkdownHeadingCollapsed": true
   },
   "source": [
    "## Column Deletion"
   ]
  },
  {
   "cell_type": "code",
   "execution_count": null,
   "id": "57b60e89-4fd5-4025-81a7-98648f00414a",
   "metadata": {},
   "outputs": [],
   "source": [
    "data = {\n",
    "    'name': ['Sonam', 'Raj', 'Rohit', 'Raj'],\n",
    "    'age': [28, 24, 35, 32],\n",
    "    'roll': [101, 102, 103, 104],\n",
    "    'marks':[111, 222, 333, 444],\n",
    "    'city':['bokaro', 'ranchi', 'dhanbad', 'deoghar'],\n",
    "    'gender':['F', 'M', 'M', 'F']\n",
    "}\n",
    "df = pd.DataFrame(data)\n",
    "print(\"Display All Data:\\n\", df)\n",
    "\n",
    "# Delete single Column\n",
    "#del df['gender']\n",
    "#print(\"\\nGender Column Deleted:\\n\", df)\n",
    "\n",
    "# Pop single column\n",
    "#print(\"\\nPOP City:\\n\", df.pop('city'))\n",
    "#print(\"\\nData after POP City:\\n\", df)\n",
    "\n",
    "# Delete Multiple column\n",
    "#newdf = df.drop(columns=['name', 'roll'])\n",
    "#print(\"\\nDrop Name and Roll:\\n\", newdf)\n",
    "\n",
    "# Delete Duplicate Values\n",
    "#print(\"\\n Delete Duplicates:\\n\", df.drop_duplicates('name'))\n"
   ]
  },
  {
   "cell_type": "markdown",
   "id": "bef5f783-81e6-4de3-829e-4a7e080fe251",
   "metadata": {
    "jp-MarkdownHeadingCollapsed": true
   },
   "source": [
    "## Filter"
   ]
  },
  {
   "cell_type": "code",
   "execution_count": null,
   "id": "e8eca825-a6f8-4d41-be68-f690e28f15c6",
   "metadata": {},
   "outputs": [],
   "source": [
    "data = {\n",
    "    'name': ['Sonam', 'Raj', 'Rohit', 'Rani'],\n",
    "    'age': [28, 24, 35, 32],\n",
    "    'roll': [101, 102, 103, 104],\n",
    "    'marks':[111, 222, 333, 444],\n",
    "    'city':['bokaro', 'ranchi', 'dhanbad', 'deoghar']\n",
    "}\n",
    "df = pd.DataFrame(data)\n",
    "print(\"Display All Data:\\n\", df)\n",
    "\n",
    "dt1 = df['age'].isin([28, 32])\n",
    "print(dt1)\n",
    "dt2 = df[df['age'].isin([28, 32])]\n",
    "print(dt2)"
   ]
  },
  {
   "cell_type": "markdown",
   "id": "539576a6-2d80-4c6b-bd46-0626b16c5636",
   "metadata": {
    "jp-MarkdownHeadingCollapsed": true
   },
   "source": [
    "## Missing Data"
   ]
  },
  {
   "cell_type": "code",
   "execution_count": null,
   "id": "3f0a145f-794d-41ef-88a4-acece1b24ab1",
   "metadata": {},
   "outputs": [],
   "source": [
    "data = {\n",
    "    'name': ['Sonam', 'Raj', 'Rohit', 'Rani'],\n",
    "    'age': [28, 24, np.nan, 32],\n",
    "    'roll': [101, 102, 103, 104],\n",
    "    'marks':[111, np.nan, 333, np.nan],\n",
    "    'city':['bokaro', 'ranchi', 'dhanbad', 'deoghar']\n",
    "}\n",
    "df = pd.DataFrame(data)\n",
    "print(\"Display All Data:\\n\", df)\n",
    "\n",
    "# Boolean Mask where values are nan\n",
    "#print(df.isna())\n",
    "#print(df.isna().sum())\n",
    "\n",
    "# Fill some Value in Missing Data\n",
    "#print(df.fillna(value=123))\n",
    "\n",
    "# Drop missing data\n",
    "#print(df.dropna())\n",
    "\n",
    "# Backward Filling\n",
    "#print(df.bfill())\n",
    "\n",
    "# Forward Filling\n",
    "#print(df.ffill())"
   ]
  },
  {
   "cell_type": "markdown",
   "id": "30a045ee-dffe-4895-bf66-932546ce0a1d",
   "metadata": {
    "jp-MarkdownHeadingCollapsed": true
   },
   "source": [
    "## Stats"
   ]
  },
  {
   "cell_type": "code",
   "execution_count": null,
   "id": "d346c0f7-4b1d-4fb7-a448-4d60e097d215",
   "metadata": {},
   "outputs": [],
   "source": [
    "data = {\n",
    "    'name': ['Sonam', 'Raj', 'Rohit', 'Rani'],\n",
    "    'age': [28, 24, np.nan, 32],\n",
    "    'roll': [101, 102, 103, 104],\n",
    "    'marks':[111, 222, 333, np.nan],\n",
    "    'city':['bokaro', 'ranchi', 'dhanbad', 'deoghar']\n",
    "}\n",
    "df = pd.DataFrame(data)\n",
    "print(\"Display All Data:\\n\", df)\n",
    "\n",
    "# Calculate the mean of the 'age' column\"\n",
    "#age_mean = df['age'].mean()\n",
    "#print(\"\\nMean age:\", age_mean)\n",
    "\n",
    "#Calculate the mean of the 'age' column including NaN values\"\n",
    "#age_mean_with_nan = df['age'].mean(skipna=False)\n",
    "#print(\"\\nMean age including NaN:\", age_mean_with_nan)\n",
    "\n",
    "# Calculate the mean of 'age' and 'marks' columns\"\n",
    "#selected_means = df[['age', 'marks']].mean()\n",
    "#print(\"\\nAge and Marks Mean:\\n\", selected_means)\n",
    "\n",
    "# Apply a single aggregation function\n",
    "#age_mean = df['age'].agg('mean')\n",
    "#print(\"\\nMean age:\", age_mean)\n",
    "\n",
    "# Apply multiple aggregation functions\n",
    "#age_stats = df['age'].agg(['mean', 'min', 'max'])\n",
    "#print(\"\\nAge statistics:\\n\", age_stats)\n",
    "\n",
    "# Apply different aggregation functions to different columns\n",
    "custom_agg = df.agg({\n",
    "    'age': ['mean', 'min', 'max'],\n",
    "    'marks': 'sum',\n",
    "    'roll': 'count'\n",
    "})\n",
    "print(\"\\nCustom aggregation:\\n\", custom_agg)"
   ]
  },
  {
   "cell_type": "markdown",
   "id": "1d7bc3ab-bb69-4c94-9f8b-ee8f4425d9c4",
   "metadata": {
    "jp-MarkdownHeadingCollapsed": true
   },
   "source": [
    "## Transformation "
   ]
  },
  {
   "cell_type": "code",
   "execution_count": null,
   "id": "870789bc-5c83-407f-a37b-6aaa70fd59d7",
   "metadata": {},
   "outputs": [],
   "source": [
    "data = {\n",
    "    'name': ['Sonam', 'Raj', 'Rohit', 'Rani'],\n",
    "    'age': [28, 24, np.nan, 32],\n",
    "    'roll': [101, 102, 103, 104],\n",
    "    'marks':[111, 222, 333, np.nan],\n",
    "    'city':['bokaro', 'ranchi', 'dhanbad', 'deoghar']\n",
    "}\n",
    "df = pd.DataFrame(data)\n",
    "print(\"Display All Data:\\n\", df)\n",
    "\n",
    "# Apply a single transformation function\n",
    "#age_plus_one = df['age'].transform(lambda x: x + 1)\n",
    "#print(\"\\nAge plus one:\\n\", age_plus_one)\n",
    "\n",
    "# Apply a built-in transformation function to a Series\n",
    "#age_squared = df['age'].transform(np.sqrt)\n",
    "#print(\"\\nAge squared:\\n\", age_squared)\n",
    "\n",
    "# Apply a single transformation function to multiple columns\n",
    "#df_transformed = df[['age', 'marks']].transform(lambda x: x * 2)\n",
    "#print(\"\\nDataFrame transformed (age and marks doubled):\\n\", df_transformed)\n",
    "\n",
    "# Apply different transformation functions to different columns\n",
    "df_transformed_diff = df.transform({\n",
    "    'age': lambda x: x + 10,\n",
    "    'marks': lambda x: x - 100\n",
    "})\n",
    "print(\"\\nDataFrame transformed with different functions:\\n\", df_transformed_diff)\n"
   ]
  },
  {
   "cell_type": "markdown",
   "id": "8a1a770b-b127-4a9f-b9c2-27c468b5065e",
   "metadata": {
    "jp-MarkdownHeadingCollapsed": true
   },
   "source": [
    "## Value Counts"
   ]
  },
  {
   "cell_type": "code",
   "execution_count": null,
   "id": "1f8b6c22-98d4-4ae1-9964-b958ae84b440",
   "metadata": {},
   "outputs": [],
   "source": [
    "data = {\n",
    "    'name': ['Sonam', 'Raj', 'Rohit', 'Rani', 'Sonam', 'Raj', 'Rohit', 'Rani', 'Sonam', 'Raj'],\n",
    "    'age': [28, 24, 35, 32, 28, 24, np.nan, 32, 28, 24],\n",
    "    'city': ['bokaro', 'ranchi', 'dhanbad', 'deoghar', 'ranchi', 'bokaro', 'dhanbad', \n",
    "             'deoghar', 'ranchi', 'ranchi']\n",
    "}\n",
    "df = pd.DataFrame(data)\n",
    "print(\"Display All Data:\\n\", df)\n",
    "\n",
    "# Use value_counts to count unique values in the 'city' column\n",
    "city_counts = df['city'].value_counts()\n",
    "print(\"\\nCity counts:\\n\", city_counts)\n",
    "\n",
    "# Use value_counts to count unique values in the 'name' column\n",
    "name_counts = df['name'].value_counts()\n",
    "print(\"\\nName counts:\\n\", name_counts)\n",
    "\n",
    "# Use value_counts to count unique values in the 'age' column including NaN values\n",
    "age_counts = df['age'].value_counts(dropna=False)\n",
    "print(\"\\nAge counts including NaN:\\n\", age_counts)\n",
    "\n",
    "# Use value_counts with sorting by index\n",
    "city_counts_sorted = df['city'].value_counts().sort_index()\n",
    "print(\"\\nCity counts sorted by index:\\n\", city_counts_sorted)"
   ]
  },
  {
   "cell_type": "markdown",
   "id": "c1b8f072-cde0-4c08-b438-1b34e9437731",
   "metadata": {
    "jp-MarkdownHeadingCollapsed": true
   },
   "source": [
    "## String Method"
   ]
  },
  {
   "cell_type": "code",
   "execution_count": null,
   "id": "bca82b33-2540-477e-a4fa-b35ff03cfa92",
   "metadata": {},
   "outputs": [],
   "source": [
    "data = {\n",
    "    'name': ['Sonam', 'Raj', 'Rohit', 'Rani'],\n",
    "    'city': ['Bokaro', 'Ranchi', 'Dhanbad', 'Deoghar']\n",
    "}\n",
    "df = pd.DataFrame(data)\n",
    "print(\"Display All Data:\\n\", df)\n",
    "\n",
    "# Convert to lowercase\n",
    "#print(\"\\nLowercase cities:\\n\", df['city'].str.lower())\n",
    "\n",
    "# Convert to Uppercase\n",
    "#print(\"\\nUppercase cities:\\n\", df['city'].str.upper())\n",
    "\n",
    "# Length of String\n",
    "#print(\"\\nString Length cities:\\n\", df['city'].str.len())\n",
    "\n",
    "# Extract first three characters\n",
    "#print(\"\\nCity substrings (first 3 characters):\\n\", df['city'].str[:3])\n",
    "\n",
    "# Replace substrings\n",
    "#print(\"\\nCities with 'a' replaced by 'A':\\n\", df['city'].str.replace('a', 'A'))"
   ]
  },
  {
   "cell_type": "markdown",
   "id": "36e477ff-a281-4319-855c-90ab5ccc52b8",
   "metadata": {
    "jp-MarkdownHeadingCollapsed": true
   },
   "source": [
    "## Merge"
   ]
  },
  {
   "cell_type": "code",
   "execution_count": null,
   "id": "511fa90a-9e37-4cd3-9175-ebf1ec2b1f3d",
   "metadata": {},
   "outputs": [],
   "source": [
    "# Create DataFrames\n",
    "df1 = pd.DataFrame({\n",
    "    'id': [1, 2, 3, 4],\n",
    "    'name': ['Sonam', 'Raj', 'Sonal', 'Rajeev']\n",
    "})\n",
    "\n",
    "df2 = pd.DataFrame({\n",
    "    'id': [3, 4, 5, 6],\n",
    "    'score': [90, 80, 70, 60]\n",
    "})\n",
    "\n",
    "# Inner Join\n",
    "inner_join = pd.merge(df1, df2, on='id')\n",
    "print(\"Inner Join:\\n\", inner_join)\n",
    "\n",
    "# Left Join\n",
    "left_join = pd.merge(df1, df2, on='id', how='left')\n",
    "print(\"\\nLeft Join:\\n\", left_join)\n",
    "\n",
    "# Right Join\n",
    "right_join = pd.merge(df1, df2, on='id', how='right')\n",
    "print(\"\\nRight Join:\\n\", right_join)\n",
    "\n",
    "# Outer Join\n",
    "outer_join = pd.merge(df1, df2, on='id', how='outer')\n",
    "print(\"\\nOuter Join:\\n\", outer_join)\n",
    "\n",
    "df3 = pd.DataFrame({\n",
    "    'id': [1, 2, 3, 4],\n",
    "    'name': ['Sonam', 'Raj', 'Sonal', 'Rajeev']\n",
    "})\n",
    "\n",
    "df4 = pd.DataFrame({\n",
    "    'stu_id': [3, 4, 5, 6],\n",
    "    'score': [90, 80, 70, 60]\n",
    "})\n",
    "# Inner Join\n",
    "inner_join = pd.merge(df3, df4, left_on='id', right_on='stu_id')\n",
    "print(\"Inner Join:\\n\", inner_join)"
   ]
  },
  {
   "cell_type": "markdown",
   "id": "cbb29d06-5549-48a6-b557-ff8ac0f86f1f",
   "metadata": {
    "jp-MarkdownHeadingCollapsed": true
   },
   "source": [
    "## Concat"
   ]
  },
  {
   "cell_type": "code",
   "execution_count": null,
   "id": "f62c1abc-0607-479c-85a6-a6af0f7a2892",
   "metadata": {},
   "outputs": [],
   "source": [
    "# Create DataFrames\n",
    "df1 = pd.DataFrame({\n",
    "    'A': ['A0', 'A1', 'A2', 'A3'],\n",
    "    'B': ['B0', 'B1', 'B2', 'B3']\n",
    "})\n",
    "\n",
    "df2 = pd.DataFrame({\n",
    "    'A': ['A4', 'A5', 'A6', 'A7'],\n",
    "    'B': ['B4', 'B5', 'B6', 'B7']\n",
    "})\n",
    "\n",
    "df3 = pd.DataFrame({\n",
    "    'C': ['C0', 'C1', 'C2', 'C3'],\n",
    "    'D': ['D0', 'D1', 'D2', 'D3']\n",
    "})\n",
    "\n",
    "# Vertical Concatenation\n",
    "vertical_concat = pd.concat([df1, df2])\n",
    "print(\"Vertical Concatenation:\\n\", vertical_concat)\n",
    "\n",
    "# Horizontal Concatenation\n",
    "horizontal_concat = pd.concat([df1, df2], axis=1)\n",
    "print(\"\\nHorizontal Concatenation:\\n\", horizontal_concat)\n",
    "\n",
    "# Concatenation with Different Columns\n",
    "different_columns_concat = pd.concat([df1, df3], axis=1)\n",
    "print(\"\\nConcatenation with Different Columns:\\n\", different_columns_concat)\n"
   ]
  },
  {
   "cell_type": "markdown",
   "id": "075d4f3a-084b-4504-98e0-f9f3b2a89b14",
   "metadata": {
    "jp-MarkdownHeadingCollapsed": true
   },
   "source": [
    "## Grouping"
   ]
  },
  {
   "cell_type": "code",
   "execution_count": null,
   "id": "4eaea3a8-6f2a-4225-898b-0966ea628acb",
   "metadata": {},
   "outputs": [],
   "source": [
    "data = {\n",
    "    'team': ['A', 'A', 'B', 'B', 'C', 'C'],\n",
    "    'player': ['X', 'Y', 'X', 'Y', 'X', 'Y'],\n",
    "    'points': [10, 15, 10, 20, 10, 25]\n",
    "}\n",
    "df = pd.DataFrame(data)\n",
    "\n",
    "# Display the DataFrame\n",
    "print(\"Original DataFrame:\\n\", df)\n",
    "\n",
    "# Group by 'team' and calculate the sum of 'points'\n",
    "grouped_sum = df.groupby('team').sum()\n",
    "print(\"\\nGrouped by Team and summed:\\n\", grouped_sum)\n",
    "\n",
    "# Group by 'Team' and 'Player' and calculate the sum of 'Points'\n",
    "grouped_multi = df.groupby(['team', 'player']).sum()\n",
    "print(\"\\nGrouped by Team and Player and summed:\\n\", grouped_multi)\n",
    "\n",
    "# Group by 'Team' and calculate various aggregations\n",
    "grouped_agg = df.groupby('team').agg({\n",
    "    'points': ['sum', 'mean', 'max']\n",
    "})\n",
    "print(\"\\nGrouped by Team with multiple aggregations:\\n\", grouped_agg)\n",
    "\n",
    "# Calculate the mean Points by Team and assign it to each row\n",
    "df['meanpoints'] = df.groupby('team')['points'].transform('mean')\n",
    "print(\"\\nMean Points by Team assigned to each row:\\n\", df)\n",
    "\n",
    "# Iterate over groups\n",
    "for name, group in df.groupby('team'):\n",
    "    print(f\"\\nGroup: {name}\")\n",
    "    print(group)"
   ]
  },
  {
   "cell_type": "markdown",
   "id": "3bf6da3e-b178-442c-87ad-3d86e3df6915",
   "metadata": {
    "jp-MarkdownHeadingCollapsed": true
   },
   "source": [
    "## Pivot Table"
   ]
  },
  {
   "cell_type": "code",
   "execution_count": null,
   "id": "95dfba42-9958-474e-9ebb-8969a9f4c0ff",
   "metadata": {},
   "outputs": [],
   "source": [
    "data = {\n",
    "    'Date': ['2024-01-01', '2024-01-01', '2024-01-02', '2024-01-02'],\n",
    "    'City': ['Bokaro', 'Ranchi', 'Dhanbad', 'Dumka'],\n",
    "    'Sales': [200, 150, 300, 200],\n",
    "    'Expenses': [50, 60, 70, 80]\n",
    "}\n",
    "df = pd.DataFrame(data)\n",
    "\n",
    "print(\"Original DataFrame:\\n\", df)\n",
    "\n",
    "# Basic Pivot Table\n",
    "pivot = pd.pivot_table(df, values='Sales', index='Date', columns='City', aggfunc='sum')\n",
    "print(\"\\nPivot Table:\\n\", pivot)\n",
    "\n",
    "# Multiple Aggregation Functions\n",
    "pivot_multi = pd.pivot_table(df, values=['Sales', 'Expenses'], index='Date', columns='City', \n",
    "                             aggfunc={'Sales': 'sum', 'Expenses': 'mean'})\n",
    "print(\"\\nPivot Table with Multiple Aggregations:\\n\", pivot_multi)\n",
    "\n",
    "# Adding Margins (Subtotals)\n",
    "pivot_margins = pd.pivot_table(df, values='Sales', index='Date', columns='City', \n",
    "                               aggfunc='sum', margins=True)\n",
    "print(\"\\nPivot Table with Margins:\\n\", pivot_margins)\n",
    "\n",
    "# Filling Missing Values\n",
    "pivot_fill = pd.pivot_table(df, values='Sales', index='Date', columns='City', \n",
    "                            aggfunc='sum', fill_value=0)\n",
    "print(\"\\nPivot Table with Fill Value:\\n\", pivot_fill)"
   ]
  },
  {
   "cell_type": "markdown",
   "id": "4831aaf4-1fed-43ad-93c0-14090cd45884",
   "metadata": {
    "jp-MarkdownHeadingCollapsed": true
   },
   "source": [
    "## Map"
   ]
  },
  {
   "cell_type": "code",
   "execution_count": null,
   "id": "355f3a49-7487-479d-9965-1e16e1c865f0",
   "metadata": {},
   "outputs": [],
   "source": [
    "data = {\n",
    "    'name': ['Sonam', 'Raj', 'Rohit', 'Rani', 'Sonam', 'Raj', 'Rohit', 'Rani', 'Sonam', 'Raj'],\n",
    "    'age': [28, 24, 35, 32, 28, 24, np.nan, 32, 28, 24],\n",
    "    'city': ['bokaro', 'ranchi', 'dhanbad', 'deoghar', 'ranchi', 'bokaro', 'dhanbad', \n",
    "             'deoghar', 'ranchi', 'ranchi']\n",
    "}\n",
    "df = pd.DataFrame(data)\n",
    "print(\"Display All Data:\\n\", df)\n",
    "\n",
    "# Function to convert names to uppercase\n",
    "def to_uppercase(name):\n",
    "    return name.upper()\n",
    "\n",
    "# Apply the to_uppercase function to the 'name' column using map()\n",
    "df['name'] = df['name'].map(to_uppercase)\n",
    "\n",
    "# Display the modified DataFrame\n",
    "print(\"\\nDataFrame after applying map() to 'name' column:\")\n",
    "print(df)"
   ]
  },
  {
   "cell_type": "markdown",
   "id": "3991c6e1-4d9b-46cc-9702-deb4ebb8a16e",
   "metadata": {
    "jp-MarkdownHeadingCollapsed": true
   },
   "source": [
    "## Import and Export File"
   ]
  },
  {
   "cell_type": "code",
   "execution_count": null,
   "id": "0a13519c-151c-4f75-ae4f-c998609fc252",
   "metadata": {},
   "outputs": [],
   "source": [
    "# Import Export CSV File\n",
    "data = {\n",
    "    'name': ['Sonam', 'Raj', 'Rohit', 'Rani', 'Sonam', 'Raj', 'Rohit', 'Rani', 'Sonam', 'Raj'],\n",
    "    'age': [28, 24, 35, 32, 28, 24, np.nan, 32, 28, 24],\n",
    "    'city': ['bokaro', 'ranchi', 'dhanbad', 'deoghar', 'ranchi', 'bokaro', 'dhanbad', \n",
    "             'deoghar', 'ranchi', 'ranchi']\n",
    "}\n",
    "df = pd.DataFrame(data)\n",
    "# Writing DataFrame to CSV file\n",
    "# df.to_csv('sample.csv', index=False)  # Without index\n",
    "\n",
    "# Reading the CSV file back into a DataFrame\n",
    "df_read = pd.read_csv('sample.csv')\n",
    "print(df_read)"
   ]
  },
  {
   "cell_type": "code",
   "execution_count": null,
   "id": "8fd95f01-b034-4e41-afa3-c31c02fba7d4",
   "metadata": {},
   "outputs": [],
   "source": [
    "# Import Export Excel File\n",
    "data = {\n",
    "    'name': ['Sonam', 'Raj', 'Rohit', 'Rani', 'Sonam', 'Raj', 'Rohit', 'Rani', 'Sonam', 'Raj'],\n",
    "    'age': [28, 24, 35, 32, 28, 24, np.nan, 32, 28, 24],\n",
    "    'city': ['bokaro', 'ranchi', 'dhanbad', 'deoghar', 'ranchi', 'bokaro', 'dhanbad', \n",
    "             'deoghar', 'ranchi', 'ranchi']\n",
    "}\n",
    "df = pd.DataFrame(data)\n",
    "# Writing DataFrame to Excel file\n",
    "#df.to_excel('sample.xlsx', index=False)  # Without index\n",
    "\n",
    "# Reading the Excel file back into a DataFrame\n",
    "df_read = pd.read_excel('sample.xlsx')\n",
    "print(df_read)"
   ]
  },
  {
   "cell_type": "code",
   "execution_count": null,
   "id": "54f8e3e9-2ca6-46c7-b7e7-b3b00d5defa5",
   "metadata": {},
   "outputs": [],
   "source": [
    "# Import Export JSON File\n",
    "data = {\n",
    "    'name': ['Sonam', 'Raj', 'Rohit', 'Rani', 'Sonam', 'Raj', 'Rohit', 'Rani', 'Sonam', 'Raj'],\n",
    "    'age': [28, 24, 35, 32, 28, 24, np.nan, 32, 28, 24],\n",
    "    'city': ['bokaro', 'ranchi', 'dhanbad', 'deoghar', 'ranchi', 'bokaro', 'dhanbad', \n",
    "             'deoghar', 'ranchi', 'ranchi']\n",
    "}\n",
    "df = pd.DataFrame(data)\n",
    "# Write DataFrame to JSON string\n",
    "#json_str = df.to_json(\"data.json\")\n",
    "\n",
    "# Reading the JSON file back into a DataFrame\n",
    "df_read = pd.read_json('data.json')\n",
    "print(df_read)"
   ]
  },
  {
   "cell_type": "code",
   "execution_count": null,
   "id": "1fabccad-1617-4e16-9c65-262178ae90ee",
   "metadata": {},
   "outputs": [],
   "source": []
  }
 ],
 "metadata": {
  "kernelspec": {
   "display_name": "pandastutenv",
   "language": "python",
   "name": "pandastutenv"
  },
  "language_info": {
   "codemirror_mode": {
    "name": "ipython",
    "version": 3
   },
   "file_extension": ".py",
   "mimetype": "text/x-python",
   "name": "python",
   "nbconvert_exporter": "python",
   "pygments_lexer": "ipython3",
   "version": "3.12.3"
  }
 },
 "nbformat": 4,
 "nbformat_minor": 5
}
